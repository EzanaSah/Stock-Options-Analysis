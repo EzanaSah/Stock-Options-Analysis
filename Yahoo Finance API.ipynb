{
 "cells": [
  {
   "cell_type": "code",
   "execution_count": 1,
   "metadata": {},
   "outputs": [],
   "source": [
    "# Import Required Packages \n",
    "import requests, json, os\n",
    "import numpy as np \n",
    "import pandas as pd"
   ]
  },
  {
   "cell_type": "code",
   "execution_count": 8,
   "metadata": {},
   "outputs": [],
   "source": [
    "# Yahoo Finance API Base URL \n",
    "baseurl = \"https://yfapi.net\"\n",
    "\n",
    "# Query String \n",
    "symbol = \"AAPL\"\n",
    "querystring = {\"symbols\":symbol}\n",
    "\n",
    "# Other API URLs used in Market Data Analysis\n",
    "quote_url = \"{}/v6/finance/quote\".format(baseurl)\n",
    "options_url = \"{}/v7/finance/options/{}\".format(baseurl,symbol)\n",
    "interval_url = \"{}/v8/finance/spark\".format(baseurl)"
   ]
  },
  {
   "cell_type": "code",
   "execution_count": 9,
   "metadata": {},
   "outputs": [],
   "source": [
    "# Header with API Key (Pulled From Environment Variables)\n",
    "yahoo_api_key = os.environ.get('yahoo_api_key')\n",
    "headers = {'x-api-key': yahoo_api_key}"
   ]
  },
  {
   "cell_type": "code",
   "execution_count": 10,
   "metadata": {},
   "outputs": [],
   "source": [
    "# API Request with header and query string \n",
    "response = requests.request(\"GET\", quote_url, headers=headers, params=querystring)\n",
    "\n",
    "# the .load method loads a dictionary .loads method loads a string\n",
    "stocks = json.loads(response.content)\n",
    "\n",
    "# Isolate the results, which is a list of dictionaries\n",
    "stocks = stocks[\"quoteResponse\"][\"result\"]\n",
    "\n",
    "# Convert Dictionary into Dataframe\n",
    "df = pd.DataFrame(stocks)"
   ]
  },
  {
   "cell_type": "code",
   "execution_count": 18,
   "metadata": {},
   "outputs": [],
   "source": [
    "# Remove the unnecessary columns \n",
    "df.drop(['language','region','quoteType','quoteSourceName',\n",
    "         'triggerable','sourceInterval','exchangeDataDelayedBy',\n",
    "         'pageViewGrowthWeekly','ipoExpectedDate'], axis=1, inplace=True)"
   ]
  },
  {
   "cell_type": "code",
   "execution_count": 11,
   "metadata": {},
   "outputs": [
    {
     "data": {
      "text/html": [
       "<div>\n",
       "<style scoped>\n",
       "    .dataframe tbody tr th:only-of-type {\n",
       "        vertical-align: middle;\n",
       "    }\n",
       "\n",
       "    .dataframe tbody tr th {\n",
       "        vertical-align: top;\n",
       "    }\n",
       "\n",
       "    .dataframe thead th {\n",
       "        text-align: right;\n",
       "    }\n",
       "</style>\n",
       "<table border=\"1\" class=\"dataframe\">\n",
       "  <thead>\n",
       "    <tr style=\"text-align: right;\">\n",
       "      <th></th>\n",
       "      <th>language</th>\n",
       "      <th>region</th>\n",
       "      <th>quoteType</th>\n",
       "      <th>quoteSourceName</th>\n",
       "      <th>triggerable</th>\n",
       "      <th>currency</th>\n",
       "      <th>exchange</th>\n",
       "      <th>shortName</th>\n",
       "      <th>longName</th>\n",
       "      <th>messageBoardId</th>\n",
       "      <th>...</th>\n",
       "      <th>fullExchangeName</th>\n",
       "      <th>financialCurrency</th>\n",
       "      <th>regularMarketOpen</th>\n",
       "      <th>averageDailyVolume3Month</th>\n",
       "      <th>averageDailyVolume10Day</th>\n",
       "      <th>fiftyTwoWeekLowChange</th>\n",
       "      <th>fiftyTwoWeekLowChangePercent</th>\n",
       "      <th>marketState</th>\n",
       "      <th>displayName</th>\n",
       "      <th>symbol</th>\n",
       "    </tr>\n",
       "  </thead>\n",
       "  <tbody>\n",
       "    <tr>\n",
       "      <th>0</th>\n",
       "      <td>en-US</td>\n",
       "      <td>US</td>\n",
       "      <td>EQUITY</td>\n",
       "      <td>Nasdaq Real Time Price</td>\n",
       "      <td>True</td>\n",
       "      <td>USD</td>\n",
       "      <td>NMS</td>\n",
       "      <td>Apple Inc.</td>\n",
       "      <td>Apple Inc.</td>\n",
       "      <td>finmb_24937</td>\n",
       "      <td>...</td>\n",
       "      <td>NasdaqGS</td>\n",
       "      <td>USD</td>\n",
       "      <td>172.86</td>\n",
       "      <td>101007314</td>\n",
       "      <td>114673790</td>\n",
       "      <td>55.450005</td>\n",
       "      <td>0.477153</td>\n",
       "      <td>POST</td>\n",
       "      <td>Apple</td>\n",
       "      <td>AAPL</td>\n",
       "    </tr>\n",
       "  </tbody>\n",
       "</table>\n",
       "<p>1 rows × 76 columns</p>\n",
       "</div>"
      ],
      "text/plain": [
       "  language region quoteType         quoteSourceName  triggerable currency  \\\n",
       "0    en-US     US    EQUITY  Nasdaq Real Time Price         True      USD   \n",
       "\n",
       "  exchange   shortName    longName messageBoardId  ... fullExchangeName  \\\n",
       "0      NMS  Apple Inc.  Apple Inc.    finmb_24937  ...         NasdaqGS   \n",
       "\n",
       "  financialCurrency  regularMarketOpen averageDailyVolume3Month  \\\n",
       "0               USD             172.86                101007314   \n",
       "\n",
       "   averageDailyVolume10Day fiftyTwoWeekLowChange  \\\n",
       "0                114673790             55.450005   \n",
       "\n",
       "   fiftyTwoWeekLowChangePercent  marketState  displayName  symbol  \n",
       "0                      0.477153         POST        Apple    AAPL  \n",
       "\n",
       "[1 rows x 76 columns]"
      ]
     },
     "execution_count": 11,
     "metadata": {},
     "output_type": "execute_result"
    }
   ],
   "source": [
    "# View the table of stocks\n",
    "df"
   ]
  },
  {
   "cell_type": "code",
   "execution_count": 20,
   "metadata": {},
   "outputs": [
    {
     "data": {
      "text/plain": [
       "list"
      ]
     },
     "execution_count": 20,
     "metadata": {},
     "output_type": "execute_result"
    }
   ],
   "source": []
  },
  {
   "cell_type": "code",
   "execution_count": null,
   "metadata": {},
   "outputs": [],
   "source": []
  },
  {
   "cell_type": "code",
   "execution_count": null,
   "metadata": {},
   "outputs": [],
   "source": []
  },
  {
   "cell_type": "code",
   "execution_count": null,
   "metadata": {},
   "outputs": [],
   "source": []
  }
 ],
 "metadata": {
  "kernelspec": {
   "display_name": "Python 3",
   "language": "python",
   "name": "python3"
  },
  "language_info": {
   "codemirror_mode": {
    "name": "ipython",
    "version": 3
   },
   "file_extension": ".py",
   "mimetype": "text/x-python",
   "name": "python",
   "nbconvert_exporter": "python",
   "pygments_lexer": "ipython3",
   "version": "3.8.10"
  }
 },
 "nbformat": 4,
 "nbformat_minor": 4
}
